{
  "nbformat": 4,
  "nbformat_minor": 0,
  "metadata": {
    "colab": {
      "name": "Mutiara.ipynb",
      "provenance": [],
      "collapsed_sections": [],
      "mount_file_id": "1stZvfItbTgjED57IQPXzuUqLsaO1DcQ8",
      "authorship_tag": "ABX9TyNPk8CbATwUh3xSKgZimqiA",
      "include_colab_link": true
    },
    "kernelspec": {
      "name": "python3",
      "display_name": "Python 3"
    },
    "language_info": {
      "name": "python"
    }
  },
  "cells": [
    {
      "cell_type": "markdown",
      "metadata": {
        "id": "view-in-github",
        "colab_type": "text"
      },
      "source": [
        "<a href=\"https://colab.research.google.com/github/mutiaraax/colab-repossitori-/blob/main/Mutiara.ipynb\" target=\"_parent\"><img src=\"https://colab.research.google.com/assets/colab-badge.svg\" alt=\"Open In Colab\"/></a>"
      ]
    },
    {
      "cell_type": "code",
      "metadata": {
        "colab": {
          "base_uri": "https://localhost:8080/"
        },
        "id": "XXpt3RPiL5lE",
        "outputId": "bb1447df-ecb1-443f-8904-a659fb025666"
      },
      "source": [
        "nim = \"2001010025\"\n",
        "nama = \"mutiara\"\n",
        "print(\"nama = \", nama)\n",
        "print(\"nim = \", nim)"
      ],
      "execution_count": 17,
      "outputs": [
        {
          "output_type": "stream",
          "name": "stdout",
          "text": [
            "nama =  mutiara\n",
            "nim =  2001010025\n"
          ]
        }
      ]
    }
  ]
}